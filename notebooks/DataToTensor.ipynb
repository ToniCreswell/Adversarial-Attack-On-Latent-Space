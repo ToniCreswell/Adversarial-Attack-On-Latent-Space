{
 "cells": [
  {
   "cell_type": "code",
   "execution_count": null,
   "metadata": {},
   "outputs": [],
   "source": [
    "from skimage.io import imread\n",
    "from matplotlib import pyplot as plt\n",
    "from bs4 import BeautifulSoup as bs\n",
    "from os.path import join\n",
    "import numpy as np\n",
    "from PIL.ImageOps import fit\n",
    "from PIL import Image\n",
    "\n",
    "%matplotlib inline"
   ]
  },
  {
   "cell_type": "code",
   "execution_count": null,
   "metadata": {},
   "outputs": [],
   "source": [
    "inDirAtt = '/home/ac2211/Downloads/celeba_attributes/list_attr_celeba.txt'\n",
    "inDirIm='/home/ac2211/Downloads/celeba_attributes/img_align_celeba'\n",
    "IMSIZE=64"
   ]
  },
  {
   "cell_type": "code",
   "execution_count": null,
   "metadata": {
    "scrolled": false
   },
   "outputs": [],
   "source": [
    "f = open(inDirAtt)\n",
    "noSamples = int(f.readline())\n",
    "print 'There are %d samples' % noSamples\n",
    "labels = f.readline().split(' ')\n",
    "print labels, type(labels), len(labels)\n",
    "smileIdx = labels.index('Smiling')\n",
    "print 'Smile index:', smileIdx\n",
    "dataX = []\n",
    "dataY = []"
   ]
  },
  {
   "cell_type": "code",
   "execution_count": null,
   "metadata": {},
   "outputs": [],
   "source": [
    "for i, line in enumerate(f):\n",
    "    imName, labels = line.split(' ')[0], line.split(' ')[1:]\n",
    "    label = np.loadtxt(labels)#[SmileIdx]\n",
    "    print imName, label\n",
    "    \n",
    "    if i%100 == 0:\n",
    "        print i\n",
    "    im = imread(join(inDirIm, imName))\n",
    "    im = Image.fromarray(im)\n",
    "    im = fit(im, size=(IMSIZE,IMSIZE))\n",
    "    label = int(label)\n",
    "    im = np.transpose(im, (2,0,1))\n",
    "    dataX.append(im)\n",
    "    dataY.append(label)"
   ]
  },
  {
   "cell_type": "code",
   "execution_count": null,
   "metadata": {},
   "outputs": [],
   "source": [
    "print np.shape(dataX)\n",
    "print np.shape(dataY)\n",
    "\n",
    "np.save('../InData/celebA/xTrain.npy', np.asarray(dataX))\n",
    "np.save('../InData/celebA/yAllTrain.npy', np.asarray(dataY))"
   ]
  },
  {
   "cell_type": "code",
   "execution_count": null,
   "metadata": {},
   "outputs": [],
   "source": [
    "labels=['noSmile', '','Smile']\n",
    "for i in range(10):\n",
    "    plt.figure()\n",
    "    plt.imshow(dataX[i].transpose(1,2,0))\n",
    "    plt.title(labels[dataY[i, SmileIdx]])\n"
   ]
  }
 ],
 "metadata": {
  "kernelspec": {
   "display_name": "Python 2",
   "language": "python",
   "name": "python2"
  },
  "language_info": {
   "codemirror_mode": {
    "name": "ipython",
    "version": 2
   },
   "file_extension": ".py",
   "mimetype": "text/x-python",
   "name": "python",
   "nbconvert_exporter": "python",
   "pygments_lexer": "ipython2",
   "version": "2.7.10"
  }
 },
 "nbformat": 4,
 "nbformat_minor": 2
}
